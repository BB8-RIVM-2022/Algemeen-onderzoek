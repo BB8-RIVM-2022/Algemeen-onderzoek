{
 "cells": [
  {
   "cell_type": "markdown",
   "metadata": {},
   "source": [
    "## libaries"
   ]
  },
  {
   "cell_type": "code",
   "execution_count": 1,
   "metadata": {},
   "outputs": [],
   "source": [
    "import pandas as pd \n",
    "import numpy as np\n",
    "import matplotlib.pyplot as plt\n",
    "import seaborn as sns\n",
    "import cbsodata "
   ]
  },
  {
   "cell_type": "markdown",
   "metadata": {},
   "source": [
    "## load data"
   ]
  },
  {
   "cell_type": "code",
   "execution_count": 2,
   "metadata": {},
   "outputs": [],
   "source": [
    "# Downloading table list\n",
    "toc = pd.DataFrame(cbsodata.get_table_list())\n",
    "\n",
    "# Downloading entire dataset (can take up to 30s)\n",
    "gezondhied_df = pd.DataFrame(cbsodata.get_data('85012NED'))\n",
    "leerlingen_per_regio_df = pd.DataFrame(pd.read_csv('Data\\opleidingsniveau_per_woonregio\\Leerlingen_2012-komma.txt'))\n",
    "pd.set_option('display.max_rows', gezondhied_df.shape[0]+1) #max aantal rows"
   ]
  },
  {
   "cell_type": "code",
   "execution_count": 3,
   "metadata": {},
   "outputs": [
    {
     "name": "stdout",
     "output_type": "stream",
     "text": [
      "<class 'pandas.core.frame.DataFrame'>\n",
      "RangeIndex: 3582 entries, 0 to 3581\n",
      "Data columns (total 24 columns):\n",
      " #   Column                                Non-Null Count  Dtype  \n",
      "---  ------                                --------------  -----  \n",
      " 0   ID                                    3582 non-null   int64  \n",
      " 1   Leeftijd                              3582 non-null   object \n",
      " 2   Marges                                3582 non-null   object \n",
      " 3   RegioS                                3582 non-null   object \n",
      " 4   ErvarenGezondheidGoedZeerGoed_1       3564 non-null   float64\n",
      " 5   EenOfMeerLangdurigeAandoeningen_2     3561 non-null   float64\n",
      " 6   EenOfMeerLichamelijkeBeperkingen_3    3561 non-null   float64\n",
      " 7   BeperkingInHoren_4                    3561 non-null   float64\n",
      " 8   BeperkingInZien_5                     3561 non-null   float64\n",
      " 9   BeperkingInBewegen_6                  3561 non-null   float64\n",
      " 10  Ondergewicht_7                        3552 non-null   float64\n",
      " 11  NormaalGewicht_8                      3561 non-null   float64\n",
      " 12  Overgewicht_9                         3561 non-null   float64\n",
      " 13  MatigOvergewicht_10                   3561 non-null   float64\n",
      " 14  ErnstigOvergewichtObesitas_11         3561 non-null   float64\n",
      " 15  VoldoetAanBeweegrichtlijn_12          3309 non-null   float64\n",
      " 16  WekelijksSporter_13                   3309 non-null   float64\n",
      " 17  Mantelzorger_14                       3561 non-null   float64\n",
      " 18  ZwaarBelasteMantelzorgers_15          2145 non-null   float64\n",
      " 19  UrenMantelzorgPerWeek_16              2091 non-null   float64\n",
      " 20  Rokers_17                             3564 non-null   float64\n",
      " 21  VoldoetAanRichtlijnAlcoholgebruik_18  3561 non-null   float64\n",
      " 22  ZwareDrinker_19                       3561 non-null   float64\n",
      " 23  OvermatigDrinker_20                   3561 non-null   float64\n",
      "dtypes: float64(20), int64(1), object(3)\n",
      "memory usage: 671.8+ KB\n"
     ]
    }
   ],
   "source": [
    "gezondhied_df.info()"
   ]
  },
  {
   "cell_type": "markdown",
   "metadata": {},
   "source": [
    "### null waardes filteren"
   ]
  },
  {
   "cell_type": "code",
   "execution_count": 4,
   "metadata": {
    "scrolled": true
   },
   "outputs": [
    {
     "name": "stdout",
     "output_type": "stream",
     "text": [
      "Voordat we de null-waardes droppen hebben we: 3582  in de dataset\n",
      "ID                                         0\n",
      "Leeftijd                                   0\n",
      "Marges                                     0\n",
      "RegioS                                     0\n",
      "ErvarenGezondheidGoedZeerGoed_1           18\n",
      "EenOfMeerLangdurigeAandoeningen_2         21\n",
      "EenOfMeerLichamelijkeBeperkingen_3        21\n",
      "BeperkingInHoren_4                        21\n",
      "BeperkingInZien_5                         21\n",
      "BeperkingInBewegen_6                      21\n",
      "Ondergewicht_7                            30\n",
      "NormaalGewicht_8                          21\n",
      "Overgewicht_9                             21\n",
      "MatigOvergewicht_10                       21\n",
      "ErnstigOvergewichtObesitas_11             21\n",
      "VoldoetAanBeweegrichtlijn_12             273\n",
      "WekelijksSporter_13                      273\n",
      "Mantelzorger_14                           21\n",
      "ZwaarBelasteMantelzorgers_15            1437\n",
      "UrenMantelzorgPerWeek_16                1491\n",
      "Rokers_17                                 18\n",
      "VoldoetAanRichtlijnAlcoholgebruik_18      21\n",
      "ZwareDrinker_19                           21\n",
      "OvermatigDrinker_20                       21\n",
      "dtype: int64\n",
      "Nadat we de null-waardes droppen hebben we: 1914 in de  dataset\n"
     ]
    }
   ],
   "source": [
    "print(f'Voordat we de null-waardes droppen hebben we: {len(gezondhied_df)}  in de dataset')\n",
    "print(gezondhied_df.isnull().sum())\n",
    "gezondhied_df.dropna(inplace=True)\n",
    "print(f'Nadat we de null-waardes droppen hebben we: {len(gezondhied_df)} in de  dataset')"
   ]
  },
  {
   "cell_type": "code",
   "execution_count": 5,
   "metadata": {},
   "outputs": [
    {
     "name": "stdout",
     "output_type": "stream",
     "text": [
      "Voordat we de null-waardes droppen hebben we: 607  in de dataset\n",
      "Regio's                                     0\n",
      "Totaal voortgezet onderwijs               185\n",
      "Vo algemene leerjaren 1-3                 185\n",
      "Vwo 3-6                                   185\n",
      "Havo 3-5                                  185\n",
      "Vmbo theoretische-gemengde leerweg 3-4    185\n",
      "Vmbo basis-kaderberoeps 3-4               185\n",
      "Praktijkonderwijs                         185\n",
      "dtype: int64\n",
      "Nadat we de null-waardes droppen hebben we: 422 in de  dataset\n"
     ]
    }
   ],
   "source": [
    "print(f'Voordat we de null-waardes droppen hebben we: {len(leerlingen_per_regio_df)}  in de dataset')\n",
    "print(leerlingen_per_regio_df.isnull().sum())\n",
    "leerlingen_per_regio_df.dropna(inplace=True)\n",
    "print(f'Nadat we de null-waardes droppen hebben we: {len(leerlingen_per_regio_df)} in de  dataset')"
   ]
  },
  {
   "cell_type": "code",
   "execution_count": 6,
   "metadata": {},
   "outputs": [
    {
     "name": "stdout",
     "output_type": "stream",
     "text": [
      "<class 'pandas.core.frame.DataFrame'>\n",
      "Int64Index: 422 entries, 0 to 606\n",
      "Data columns (total 8 columns):\n",
      " #   Column                                  Non-Null Count  Dtype  \n",
      "---  ------                                  --------------  -----  \n",
      " 0   Regio's                                 422 non-null    object \n",
      " 1   Totaal voortgezet onderwijs             422 non-null    float64\n",
      " 2   Vo algemene leerjaren 1-3               422 non-null    float64\n",
      " 3   Vwo 3-6                                 422 non-null    float64\n",
      " 4   Havo 3-5                                422 non-null    float64\n",
      " 5   Vmbo theoretische-gemengde leerweg 3-4  422 non-null    float64\n",
      " 6   Vmbo basis-kaderberoeps 3-4             422 non-null    float64\n",
      " 7   Praktijkonderwijs                       422 non-null    float64\n",
      "dtypes: float64(7), object(1)\n",
      "memory usage: 29.7+ KB\n"
     ]
    }
   ],
   "source": [
    "leerlingen_per_regio_df.info()"
   ]
  },
  {
   "cell_type": "markdown",
   "metadata": {},
   "source": [
    "## percentages uitrekenen per regio en gezondheids data pakken"
   ]
  },
  {
   "cell_type": "code",
   "execution_count": 12,
   "metadata": {},
   "outputs": [],
   "source": [
    "#opleidingsniveau\n",
    "Per_hoog_opgeleid = []\n",
    "Per_laag_opgeleid = []\n",
    "\n",
    "# gezondheids data\n",
    "Ondergewicht = []\n",
    "NormaalGewicht = []\n",
    "MatigOvergewicht = []\n",
    "ErnstigOvergewichtObesitas = []\n",
    "\n",
    "# regio's\n",
    "Regios = []\n",
    "\n",
    "# get percentage hoog en laag opgeleid en percantages gewicht.\n",
    "for ind_l, row_l in leerlingen_per_regio_df.iterrows():   \n",
    "    for ind_g, row_g in gezondhied_df.iterrows():\n",
    "        if row_g['RegioS'] == row_l[\"Regio's\"]:\n",
    "            # regio's\n",
    "            Regios.append(row_l[\"Regio's\"])\n",
    "            # opleidingsniveau's\n",
    "            Per_hoog_opgeleid.append((row_l['Vwo 3-6'] + row_l['Havo 3-5']) / (row_l['Totaal voortgezet onderwijs'] - row_l['Vo algemene leerjaren 1-3']) * 100)\n",
    "            Per_laag_opgeleid.append((row_l['Vmbo theoretische-gemengde leerweg 3-4'] + row_l['Vmbo basis-kaderberoeps 3-4'] + row_l['Praktijkonderwijs']) / (row_l['Totaal voortgezet onderwijs'] - row_l['Vo algemene leerjaren 1-3']) * 100)\n",
    "            # percentages gewicht\n",
    "            Ondergewicht.append(row_g['Ondergewicht_7'])\n",
    "            NormaalGewicht.append(row_g['NormaalGewicht_8'])\n",
    "            MatigOvergewicht.append(row_g['MatigOvergewicht_10'])\n",
    "            ErnstigOvergewichtObesitas.append(row_g['ErnstigOvergewichtObesitas_11'])"
   ]
  },
  {
   "cell_type": "markdown",
   "metadata": {},
   "source": [
    "## maak dataframe met percentages"
   ]
  },
  {
   "cell_type": "code",
   "execution_count": 15,
   "metadata": {},
   "outputs": [],
   "source": [
    "data = {\"RegioS\": Regios,\n",
    "        'Per_hoog_opgeleid': Per_hoog_opgeleid,\n",
    "        'Per_laag_opgeleid': Per_laag_opgeleid,\n",
    "        'Ondergewicht': Ondergewicht,\n",
    "        'Normaalgewicht': NormaalGewicht,\n",
    "        'Matigovergewicht': MatigOvergewicht,\n",
    "        'Ernstigovergewicht': ErnstigOvergewichtObesitas\n",
    "        }\n",
    "\n",
    "opleidingsniveau_gewicht_per_gemeente_df = pd.DataFrame(data)"
   ]
  },
  {
   "cell_type": "code",
   "execution_count": 16,
   "metadata": {},
   "outputs": [
    {
     "name": "stdout",
     "output_type": "stream",
     "text": [
      "<class 'pandas.core.frame.DataFrame'>\n",
      "RangeIndex: 1485 entries, 0 to 1484\n",
      "Data columns (total 7 columns):\n",
      " #   Column              Non-Null Count  Dtype  \n",
      "---  ------              --------------  -----  \n",
      " 0   RegioS              1485 non-null   object \n",
      " 1   Per_hoog_opgeleid   1485 non-null   float64\n",
      " 2   Per_laag_opgeleid   1485 non-null   float64\n",
      " 3   Ondergewicht        1485 non-null   float64\n",
      " 4   Normaalgewicht      1485 non-null   float64\n",
      " 5   Matigovergewicht    1485 non-null   float64\n",
      " 6   Ernstigovergewicht  1485 non-null   float64\n",
      "dtypes: float64(6), object(1)\n",
      "memory usage: 81.3+ KB\n"
     ]
    }
   ],
   "source": [
    "opleidingsniveau_gewicht_per_gemeente_df.info()"
   ]
  },
  {
   "cell_type": "code",
   "execution_count": 21,
   "metadata": {},
   "outputs": [
    {
     "data": {
      "text/html": [
       "<div>\n",
       "<style scoped>\n",
       "    .dataframe tbody tr th:only-of-type {\n",
       "        vertical-align: middle;\n",
       "    }\n",
       "\n",
       "    .dataframe tbody tr th {\n",
       "        vertical-align: top;\n",
       "    }\n",
       "\n",
       "    .dataframe thead th {\n",
       "        text-align: right;\n",
       "    }\n",
       "</style>\n",
       "<table border=\"1\" class=\"dataframe\">\n",
       "  <thead>\n",
       "    <tr style=\"text-align: right;\">\n",
       "      <th></th>\n",
       "      <th>Per_hoog_opgeleid</th>\n",
       "      <th>Per_laag_opgeleid</th>\n",
       "      <th>Ondergewicht</th>\n",
       "      <th>Normaalgewicht</th>\n",
       "      <th>Matigovergewicht</th>\n",
       "      <th>Ernstigovergewicht</th>\n",
       "    </tr>\n",
       "  </thead>\n",
       "  <tbody>\n",
       "    <tr>\n",
       "      <th>Per_hoog_opgeleid</th>\n",
       "      <td>1.000000</td>\n",
       "      <td>-1.000000</td>\n",
       "      <td>0.099286</td>\n",
       "      <td>0.351637</td>\n",
       "      <td>-0.190898</td>\n",
       "      <td>-0.383646</td>\n",
       "    </tr>\n",
       "    <tr>\n",
       "      <th>Per_laag_opgeleid</th>\n",
       "      <td>-1.000000</td>\n",
       "      <td>1.000000</td>\n",
       "      <td>-0.099286</td>\n",
       "      <td>-0.351637</td>\n",
       "      <td>0.190898</td>\n",
       "      <td>0.383646</td>\n",
       "    </tr>\n",
       "    <tr>\n",
       "      <th>Ondergewicht</th>\n",
       "      <td>0.099286</td>\n",
       "      <td>-0.099286</td>\n",
       "      <td>1.000000</td>\n",
       "      <td>0.578409</td>\n",
       "      <td>0.238863</td>\n",
       "      <td>0.276219</td>\n",
       "    </tr>\n",
       "    <tr>\n",
       "      <th>Normaalgewicht</th>\n",
       "      <td>0.351637</td>\n",
       "      <td>-0.351637</td>\n",
       "      <td>0.578409</td>\n",
       "      <td>1.000000</td>\n",
       "      <td>-0.299432</td>\n",
       "      <td>-0.322590</td>\n",
       "    </tr>\n",
       "    <tr>\n",
       "      <th>Matigovergewicht</th>\n",
       "      <td>-0.190898</td>\n",
       "      <td>0.190898</td>\n",
       "      <td>0.238863</td>\n",
       "      <td>-0.299432</td>\n",
       "      <td>1.000000</td>\n",
       "      <td>0.669776</td>\n",
       "    </tr>\n",
       "    <tr>\n",
       "      <th>Ernstigovergewicht</th>\n",
       "      <td>-0.383646</td>\n",
       "      <td>0.383646</td>\n",
       "      <td>0.276219</td>\n",
       "      <td>-0.322590</td>\n",
       "      <td>0.669776</td>\n",
       "      <td>1.000000</td>\n",
       "    </tr>\n",
       "  </tbody>\n",
       "</table>\n",
       "</div>"
      ],
      "text/plain": [
       "                    Per_hoog_opgeleid  Per_laag_opgeleid  Ondergewicht  \\\n",
       "Per_hoog_opgeleid            1.000000          -1.000000      0.099286   \n",
       "Per_laag_opgeleid           -1.000000           1.000000     -0.099286   \n",
       "Ondergewicht                 0.099286          -0.099286      1.000000   \n",
       "Normaalgewicht               0.351637          -0.351637      0.578409   \n",
       "Matigovergewicht            -0.190898           0.190898      0.238863   \n",
       "Ernstigovergewicht          -0.383646           0.383646      0.276219   \n",
       "\n",
       "                    Normaalgewicht  Matigovergewicht  Ernstigovergewicht  \n",
       "Per_hoog_opgeleid         0.351637         -0.190898           -0.383646  \n",
       "Per_laag_opgeleid        -0.351637          0.190898            0.383646  \n",
       "Ondergewicht              0.578409          0.238863            0.276219  \n",
       "Normaalgewicht            1.000000         -0.299432           -0.322590  \n",
       "Matigovergewicht         -0.299432          1.000000            0.669776  \n",
       "Ernstigovergewicht       -0.322590          0.669776            1.000000  "
      ]
     },
     "execution_count": 21,
     "metadata": {},
     "output_type": "execute_result"
    }
   ],
   "source": [
    "opleidingsniveau_gewicht_per_gemeente_df.corr()"
   ]
  }
 ],
 "metadata": {
  "kernelspec": {
   "display_name": "Python 3",
   "language": "python",
   "name": "python3"
  },
  "language_info": {
   "codemirror_mode": {
    "name": "ipython",
    "version": 3
   },
   "file_extension": ".py",
   "mimetype": "text/x-python",
   "name": "python",
   "nbconvert_exporter": "python",
   "pygments_lexer": "ipython3",
   "version": "3.7.6"
  }
 },
 "nbformat": 4,
 "nbformat_minor": 4
}
